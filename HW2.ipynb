{
 "cells": [
  {
   "cell_type": "code",
   "execution_count": 70,
   "id": "67b92b52",
   "metadata": {},
   "outputs": [],
   "source": [
    "import pandas as pd\n",
    "\n",
    "import  sklearn.tree as sk\n",
    "import sklearn.metrics as sk2"
   ]
  },
  {
   "cell_type": "code",
   "execution_count": 71,
   "id": "264f994f",
   "metadata": {},
   "outputs": [],
   "source": [
    "data = pd.read_csv('pima-indians-diabetes.data.csv')"
   ]
  },
  {
   "cell_type": "code",
   "execution_count": 72,
   "id": "9f3b1d00",
   "metadata": {},
   "outputs": [
    {
     "name": "stdout",
     "output_type": "stream",
     "text": [
      "     Pregnancies  Glucose  BloodPressure  SkinThickness  Insulin   BMI  \\\n",
      "0              6      148             72             35        0  33.6   \n",
      "1              1       85             66             29        0  26.6   \n",
      "2              8      183             64              0        0  23.3   \n",
      "3              1       89             66             23       94  28.1   \n",
      "4              0      137             40             35      168  43.1   \n",
      "..           ...      ...            ...            ...      ...   ...   \n",
      "763           10      101             76             48      180  32.9   \n",
      "764            2      122             70             27        0  36.8   \n",
      "765            5      121             72             23      112  26.2   \n",
      "766            1      126             60              0        0  30.1   \n",
      "767            1       93             70             31        0  30.4   \n",
      "\n",
      "     DiabetesPedigreeFunction  Age  Outcome  \n",
      "0                       0.627   50        1  \n",
      "1                       0.351   31        0  \n",
      "2                       0.672   32        1  \n",
      "3                       0.167   21        0  \n",
      "4                       2.288   33        1  \n",
      "..                        ...  ...      ...  \n",
      "763                     0.171   63        0  \n",
      "764                     0.340   27        0  \n",
      "765                     0.245   30        0  \n",
      "766                     0.349   47        1  \n",
      "767                     0.315   23        0  \n",
      "\n",
      "[768 rows x 9 columns]\n"
     ]
    }
   ],
   "source": [
    "print(data)\n"
   ]
  },
  {
   "cell_type": "code",
   "execution_count": 73,
   "id": "7461d096",
   "metadata": {},
   "outputs": [],
   "source": [
    "datay = [i for i in data['Outcome']]\n",
    "datax = []\n",
    "\n",
    "columns = [i for i in data.columns][:8]\n",
    "\n",
    "temp = []\n",
    "for j in range(0,len(data[columns[0]])):\n",
    "    for i in columns:\n",
    "        temp.append(data[i][j])\n",
    "    datax.append(temp)\n",
    "    temp = []\n",
    "    \n",
    "trainx = [datax[i] for i in range(0,(int)(len(data[columns[0]]) * .7))]\n",
    "trainy = [datay[i] for i in range(0,(int)(len(data[columns[0]]) * .7))]\n",
    "\n",
    "testx = [datax[i] for i in range((int)(len(data[columns[0]]) * .7),len(data[columns[0]]))]\n",
    "testy = [datay[i] for i in range((int)(len(data[columns[0]]) * .7),len(data[columns[0]]))]\n",
    "    \n"
   ]
  },
  {
   "cell_type": "code",
   "execution_count": 106,
   "id": "bb2ed5a5",
   "metadata": {},
   "outputs": [],
   "source": [
    "model = sk.DecisionTreeClassifier(criterion='entropy',max_depth = 2)\n",
    "model2 = sk.DecisionTreeClassifier(criterion='entropy',max_depth = 2)"
   ]
  },
  {
   "cell_type": "code",
   "execution_count": 107,
   "id": "53c59715",
   "metadata": {},
   "outputs": [
    {
     "name": "stdout",
     "output_type": "stream",
     "text": [
      "test accuracy:  0.7489177489177489\n",
      "train accuracy:  0.7486033519553073\n"
     ]
    }
   ],
   "source": [
    "model.fit(trainx,trainy)\n",
    "model2.fit(trainx,trainy)\n",
    "\n",
    "ypred = model.predict(testx)\n",
    "\n",
    "ypred2 = model.predict(trainx)\n",
    "\n",
    "print(\"test accuracy: \", sk2.accuracy_score(testy,ypred))\n",
    "print(\"train accuracy: \", sk2.accuracy_score(trainy,ypred2))\n",
    "\n"
   ]
  },
  {
   "cell_type": "code",
   "execution_count": 108,
   "id": "ca8d08cc",
   "metadata": {},
   "outputs": [],
   "source": [
    "model = sk.DecisionTreeClassifier(criterion='entropy',max_depth = 3)\n",
    "model2 = sk.DecisionTreeClassifier(criterion='entropy',max_depth = 3)"
   ]
  },
  {
   "cell_type": "code",
   "execution_count": 109,
   "id": "f38b6e38",
   "metadata": {},
   "outputs": [
    {
     "name": "stdout",
     "output_type": "stream",
     "text": [
      "test accuracy:  0.7489177489177489\n",
      "train accuracy:  0.7541899441340782\n"
     ]
    }
   ],
   "source": [
    "model.fit(trainx,trainy)\n",
    "model2.fit(trainx,trainy)\n",
    "\n",
    "ypred = model.predict(testx)\n",
    "\n",
    "ypred2 = model.predict(trainx)\n",
    "\n",
    "print(\"test accuracy: \", sk2.accuracy_score(testy,ypred))\n",
    "print(\"train accuracy: \", sk2.accuracy_score(trainy,ypred2))"
   ]
  },
  {
   "cell_type": "code",
   "execution_count": 110,
   "id": "ed582392",
   "metadata": {},
   "outputs": [],
   "source": [
    "model = sk.DecisionTreeClassifier(criterion='entropy',max_depth = 4)\n",
    "model2 = sk.DecisionTreeClassifier(criterion='entropy',max_depth = 4)"
   ]
  },
  {
   "cell_type": "code",
   "execution_count": 111,
   "id": "e077a9f7",
   "metadata": {},
   "outputs": [
    {
     "name": "stdout",
     "output_type": "stream",
     "text": [
      "test accuracy:  0.7748917748917749\n",
      "train accuracy:  0.7783985102420856\n"
     ]
    }
   ],
   "source": [
    "model.fit(trainx,trainy)\n",
    "model2.fit(trainx,trainy)\n",
    "\n",
    "ypred = model.predict(testx)\n",
    "\n",
    "ypred2 = model.predict(trainx)\n",
    "\n",
    "print(\"test accuracy: \", sk2.accuracy_score(testy,ypred))\n",
    "print(\"train accuracy: \", sk2.accuracy_score(trainy,ypred2))"
   ]
  },
  {
   "cell_type": "code",
   "execution_count": 112,
   "id": "8b0d0c69",
   "metadata": {},
   "outputs": [],
   "source": [
    "model = sk.DecisionTreeClassifier(criterion='entropy',max_depth = 4)\n",
    "model2 = sk.DecisionTreeClassifier(criterion='entropy',max_depth = 4)"
   ]
  },
  {
   "cell_type": "code",
   "execution_count": 113,
   "id": "3f92b4dd",
   "metadata": {},
   "outputs": [
    {
     "name": "stdout",
     "output_type": "stream",
     "text": [
      "test accuracy:  0.7748917748917749\n",
      "train accuracy:  0.7783985102420856\n"
     ]
    }
   ],
   "source": [
    "model.fit(trainx,trainy)\n",
    "model2.fit(trainx,trainy)\n",
    "\n",
    "ypred = model.predict(testx)\n",
    "\n",
    "ypred2 = model.predict(trainx)\n",
    "\n",
    "print(\"test accuracy: \", sk2.accuracy_score(testy,ypred))\n",
    "print(\"train accuracy: \", sk2.accuracy_score(trainy,ypred2))"
   ]
  },
  {
   "cell_type": "code",
   "execution_count": 114,
   "id": "6e490230",
   "metadata": {},
   "outputs": [],
   "source": [
    "model = sk.DecisionTreeClassifier(criterion='entropy',max_depth = 5)\n",
    "model2 = sk.DecisionTreeClassifier(criterion='entropy',max_depth = 5)"
   ]
  },
  {
   "cell_type": "code",
   "execution_count": 115,
   "id": "127fe142",
   "metadata": {},
   "outputs": [
    {
     "name": "stdout",
     "output_type": "stream",
     "text": [
      "test accuracy:  0.7835497835497836\n",
      "train accuracy:  0.813780260707635\n"
     ]
    }
   ],
   "source": [
    "model.fit(trainx,trainy)\n",
    "model2.fit(trainx,trainy)\n",
    "\n",
    "ypred = model.predict(testx)\n",
    "\n",
    "ypred2 = model.predict(trainx)\n",
    "\n",
    "print(\"test accuracy: \", sk2.accuracy_score(testy,ypred))\n",
    "print(\"train accuracy: \", sk2.accuracy_score(trainy,ypred2))"
   ]
  },
  {
   "cell_type": "code",
   "execution_count": 116,
   "id": "f81e01f4",
   "metadata": {},
   "outputs": [],
   "source": [
    "model = sk.DecisionTreeClassifier(criterion='entropy',max_depth = 6)\n",
    "model2 = sk.DecisionTreeClassifier(criterion='entropy',max_depth = 6)"
   ]
  },
  {
   "cell_type": "code",
   "execution_count": 117,
   "id": "0f0510df",
   "metadata": {},
   "outputs": [
    {
     "name": "stdout",
     "output_type": "stream",
     "text": [
      "test accuracy:  0.7705627705627706\n",
      "train accuracy:  0.8324022346368715\n"
     ]
    }
   ],
   "source": [
    "model.fit(trainx,trainy)\n",
    "model2.fit(trainx,trainy)\n",
    "\n",
    "ypred = model.predict(testx)\n",
    "\n",
    "ypred2 = model.predict(trainx)\n",
    "\n",
    "print(\"test accuracy: \", sk2.accuracy_score(testy,ypred))\n",
    "print(\"train accuracy: \", sk2.accuracy_score(trainy,ypred2))"
   ]
  },
  {
   "cell_type": "code",
   "execution_count": 118,
   "id": "12d4c06c",
   "metadata": {},
   "outputs": [],
   "source": [
    "model = sk.DecisionTreeClassifier(criterion='entropy',max_depth = 7)\n",
    "model2 = sk.DecisionTreeClassifier(criterion='entropy',max_depth = 7)"
   ]
  },
  {
   "cell_type": "code",
   "execution_count": 119,
   "id": "f4106d37",
   "metadata": {},
   "outputs": [
    {
     "name": "stdout",
     "output_type": "stream",
     "text": [
      "test accuracy:  0.7316017316017316\n",
      "train accuracy:  0.8603351955307262\n"
     ]
    }
   ],
   "source": [
    "model.fit(trainx,trainy)\n",
    "model2.fit(trainx,trainy)\n",
    "\n",
    "ypred = model.predict(testx)\n",
    "\n",
    "ypred2 = model.predict(trainx)\n",
    "\n",
    "print(\"test accuracy: \", sk2.accuracy_score(testy,ypred))\n",
    "print(\"train accuracy: \", sk2.accuracy_score(trainy,ypred2))"
   ]
  },
  {
   "cell_type": "code",
   "execution_count": 120,
   "id": "8be78b24",
   "metadata": {},
   "outputs": [],
   "source": [
    "model = sk.DecisionTreeClassifier(criterion='entropy',max_depth = 8)\n",
    "model2 = sk.DecisionTreeClassifier(criterion='entropy',max_depth = 8)"
   ]
  },
  {
   "cell_type": "code",
   "execution_count": 121,
   "id": "4866ca06",
   "metadata": {},
   "outputs": [
    {
     "name": "stdout",
     "output_type": "stream",
     "text": [
      "test accuracy:  0.7359307359307359\n",
      "train accuracy:  0.8733705772811918\n"
     ]
    }
   ],
   "source": [
    "model.fit(trainx,trainy)\n",
    "model2.fit(trainx,trainy)\n",
    "\n",
    "ypred = model.predict(testx)\n",
    "\n",
    "ypred2 = model.predict(trainx)\n",
    "\n",
    "print(\"test accuracy: \", sk2.accuracy_score(testy,ypred))\n",
    "print(\"train accuracy: \", sk2.accuracy_score(trainy,ypred2))"
   ]
  },
  {
   "cell_type": "code",
   "execution_count": 122,
   "id": "d8c63b79",
   "metadata": {},
   "outputs": [],
   "source": [
    "model = sk.DecisionTreeClassifier(criterion='entropy',max_depth = 9)\n",
    "model2 = sk.DecisionTreeClassifier(criterion='entropy',max_depth = 9)"
   ]
  },
  {
   "cell_type": "code",
   "execution_count": 123,
   "id": "0430b9c1",
   "metadata": {},
   "outputs": [
    {
     "name": "stdout",
     "output_type": "stream",
     "text": [
      "test accuracy:  0.7142857142857143\n",
      "train accuracy:  0.8864059590316573\n"
     ]
    }
   ],
   "source": [
    "model.fit(trainx,trainy)\n",
    "model2.fit(trainx,trainy)\n",
    "\n",
    "ypred = model.predict(testx)\n",
    "\n",
    "ypred2 = model.predict(trainx)\n",
    "\n",
    "print(\"test accuracy: \", sk2.accuracy_score(testy,ypred))\n",
    "print(\"train accuracy: \", sk2.accuracy_score(trainy,ypred2))"
   ]
  },
  {
   "cell_type": "code",
   "execution_count": 124,
   "id": "5b1177b5",
   "metadata": {},
   "outputs": [],
   "source": [
    "model = sk.DecisionTreeClassifier(criterion='entropy',max_depth = 10)\n",
    "model2 = sk.DecisionTreeClassifier(criterion='entropy',max_depth = 10)"
   ]
  },
  {
   "cell_type": "code",
   "execution_count": 125,
   "id": "00fb8b1d",
   "metadata": {},
   "outputs": [
    {
     "name": "stdout",
     "output_type": "stream",
     "text": [
      "test accuracy:  0.683982683982684\n",
      "train accuracy:  0.9329608938547486\n"
     ]
    }
   ],
   "source": [
    "model.fit(trainx,trainy)\n",
    "model2.fit(trainx,trainy)\n",
    "\n",
    "ypred = model.predict(testx)\n",
    "\n",
    "ypred2 = model.predict(trainx)\n",
    "\n",
    "print(\"test accuracy: \", sk2.accuracy_score(testy,ypred))\n",
    "print(\"train accuracy: \", sk2.accuracy_score(trainy,ypred2))"
   ]
  },
  {
   "cell_type": "code",
   "execution_count": null,
   "id": "5c96005d",
   "metadata": {},
   "outputs": [],
   "source": []
  },
  {
   "cell_type": "code",
   "execution_count": null,
   "id": "2322a7c2",
   "metadata": {},
   "outputs": [],
   "source": []
  },
  {
   "cell_type": "code",
   "execution_count": null,
   "id": "0e0d40ed",
   "metadata": {},
   "outputs": [],
   "source": []
  }
 ],
 "metadata": {
  "kernelspec": {
   "display_name": "Python 3 (ipykernel)",
   "language": "python",
   "name": "python3"
  },
  "language_info": {
   "codemirror_mode": {
    "name": "ipython",
    "version": 3
   },
   "file_extension": ".py",
   "mimetype": "text/x-python",
   "name": "python",
   "nbconvert_exporter": "python",
   "pygments_lexer": "ipython3",
   "version": "3.10.6"
  }
 },
 "nbformat": 4,
 "nbformat_minor": 5
}
