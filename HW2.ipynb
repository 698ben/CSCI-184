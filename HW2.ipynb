{
 "cells": [
  {
   "cell_type": "code",
   "execution_count": 68,
   "id": "67b92b52",
   "metadata": {},
   "outputs": [],
   "source": [
    "import pandas as pd\n",
    "\n",
    "import  sklearn.tree as sk\n",
    "import sklearn.metrics as sk2"
   ]
  },
  {
   "cell_type": "code",
   "execution_count": 4,
   "id": "264f994f",
   "metadata": {},
   "outputs": [],
   "source": [
    "data = pd.read_csv('pima-indians-diabetes.data.csv')"
   ]
  },
  {
   "cell_type": "code",
   "execution_count": 5,
   "id": "9f3b1d00",
   "metadata": {},
   "outputs": [
    {
     "name": "stdout",
     "output_type": "stream",
     "text": [
      "     Pregnancies  Glucose  BloodPressure  SkinThickness  Insulin   BMI  \\\n",
      "0              6      148             72             35        0  33.6   \n",
      "1              1       85             66             29        0  26.6   \n",
      "2              8      183             64              0        0  23.3   \n",
      "3              1       89             66             23       94  28.1   \n",
      "4              0      137             40             35      168  43.1   \n",
      "..           ...      ...            ...            ...      ...   ...   \n",
      "763           10      101             76             48      180  32.9   \n",
      "764            2      122             70             27        0  36.8   \n",
      "765            5      121             72             23      112  26.2   \n",
      "766            1      126             60              0        0  30.1   \n",
      "767            1       93             70             31        0  30.4   \n",
      "\n",
      "     DiabetesPedigreeFunction  Age  Outcome  \n",
      "0                       0.627   50        1  \n",
      "1                       0.351   31        0  \n",
      "2                       0.672   32        1  \n",
      "3                       0.167   21        0  \n",
      "4                       2.288   33        1  \n",
      "..                        ...  ...      ...  \n",
      "763                     0.171   63        0  \n",
      "764                     0.340   27        0  \n",
      "765                     0.245   30        0  \n",
      "766                     0.349   47        1  \n",
      "767                     0.315   23        0  \n",
      "\n",
      "[768 rows x 9 columns]\n"
     ]
    }
   ],
   "source": [
    "print(data)\n"
   ]
  },
  {
   "cell_type": "code",
   "execution_count": 51,
   "id": "7461d096",
   "metadata": {},
   "outputs": [],
   "source": [
    "datay = [i for i in data['Outcome']]\n",
    "datax = []\n",
    "\n",
    "columns = [i for i in data.columns][:8]\n",
    "\n",
    "temp = []\n",
    "for j in range(0,len(data[columns[0]])):\n",
    "    for i in columns:\n",
    "        temp.append(data[i][j])\n",
    "    datax.append(temp)\n",
    "    temp = []\n",
    "    \n",
    "trainx = [datax[i] for i in range(0,(int)(len(data[columns[0]]) * .7))]\n",
    "trainy = [datay[i] for i in range(0,(int)(len(data[columns[0]]) * .7))]\n",
    "\n",
    "testx = [datax[i] for i in range((int)(len(data[columns[0]]) * .7),len(data[columns[0]]))]\n",
    "testy = [datay[i] for i in range((int)(len(data[columns[0]]) * .7),len(data[columns[0]]))]\n",
    "    \n"
   ]
  },
  {
   "cell_type": "code",
   "execution_count": 61,
   "id": "bb2ed5a5",
   "metadata": {},
   "outputs": [],
   "source": [
    "model = sk.DecisionTreeClassifier()"
   ]
  },
  {
   "cell_type": "code",
   "execution_count": 69,
   "id": "53c59715",
   "metadata": {},
   "outputs": [
    {
     "name": "stdout",
     "output_type": "stream",
     "text": [
      "precision:  0.6329113924050633 , recall:  0.6329113924050633 F1 score:  0.6329113924050633\n"
     ]
    }
   ],
   "source": [
    "model.fit(trainx,trainy)\n",
    "\n",
    "ypred = model.predict(testx)\n",
    "\n",
    "print(\"precision: \", sk2.precision_score(testy,ypred),\", recall: \", sk2.recall_score(testy,ypred), \"F1 score: \", sk2.f1_score(testy,ypred) )\n",
    "\n"
   ]
  }
 ],
 "metadata": {
  "kernelspec": {
   "display_name": "Python 3 (ipykernel)",
   "language": "python",
   "name": "python3"
  },
  "language_info": {
   "codemirror_mode": {
    "name": "ipython",
    "version": 3
   },
   "file_extension": ".py",
   "mimetype": "text/x-python",
   "name": "python",
   "nbconvert_exporter": "python",
   "pygments_lexer": "ipython3",
   "version": "3.10.6"
  }
 },
 "nbformat": 4,
 "nbformat_minor": 5
}
