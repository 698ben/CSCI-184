{
 "cells": [
  {
   "cell_type": "code",
   "execution_count": null,
   "id": "f63ef480",
   "metadata": {
    "scrolled": true
   },
   "outputs": [],
   "source": []
  },
  {
   "cell_type": "code",
   "execution_count": 1,
   "id": "3d368f11",
   "metadata": {},
   "outputs": [
    {
     "name": "stderr",
     "output_type": "stream",
     "text": [
      "2023-06-03 19:29:56.875628: I tensorflow/tsl/cuda/cudart_stub.cc:28] Could not find cuda drivers on your machine, GPU will not be used.\n",
      "2023-06-03 19:29:57.229606: I tensorflow/tsl/cuda/cudart_stub.cc:28] Could not find cuda drivers on your machine, GPU will not be used.\n",
      "2023-06-03 19:29:57.230904: I tensorflow/core/platform/cpu_feature_guard.cc:182] This TensorFlow binary is optimized to use available CPU instructions in performance-critical operations.\n",
      "To enable the following instructions: AVX2 FMA, in other operations, rebuild TensorFlow with the appropriate compiler flags.\n",
      "2023-06-03 19:29:58.649013: W tensorflow/compiler/tf2tensorrt/utils/py_utils.cc:38] TF-TRT Warning: Could not find TensorRT\n"
     ]
    }
   ],
   "source": [
    "from tensorflow import keras as ks\n",
    "import pandas as pd\n",
    "import sklearn.preprocessing as sk\n",
    "import math"
   ]
  },
  {
   "cell_type": "code",
   "execution_count": 4,
   "id": "c07bba1a",
   "metadata": {},
   "outputs": [
    {
     "data": {
      "text/plain": [
       "(768, 9)"
      ]
     },
     "execution_count": 4,
     "metadata": {},
     "output_type": "execute_result"
    }
   ],
   "source": [
    "data = pd.read_csv(\"pima-indians-diabetes.data.csv\")\n",
    "data.shape"
   ]
  },
  {
   "cell_type": "code",
   "execution_count": 5,
   "id": "301af3b6",
   "metadata": {},
   "outputs": [],
   "source": [
    "datax = []\n",
    "datay = []\n",
    "\n",
    "for i in data.columns:\n",
    "    if(i != \"Outcome\"):\n",
    "        datax.append(data[i])\n",
    "    else:\n",
    "        for j in data[i]:\n",
    "            datay.append([j])\n",
    "    \n",
    "datax = sk.normalize(datax)\n",
    "\n",
    "data2x = []\n",
    "temp = []\n",
    "\n",
    "for i in range(0,len(data['Outcome'])):\n",
    "    for j in range(0,len(data.columns) - 1):\n",
    "        temp.append(datax[j][i])\n",
    "    data2x.append(temp)\n",
    "    temp = []\n",
    "    \n",
    "datax = data2x\n",
    "\n",
    "num = math.floor(len(datax) * .75)\n",
    "\n",
    "trainx = datax[0:num]\n",
    "\n",
    "testx = datax[num:]\n",
    "\n",
    "trainy = datay[0:num]\n",
    "\n",
    "testy = datay[num:]\n"
   ]
  },
  {
   "cell_type": "code",
   "execution_count": 120,
   "id": "61a3c096",
   "metadata": {},
   "outputs": [],
   "source": [
    "layers = []\n",
    "layers.append(ks.layers.Dense(40,input_shape = (8,),activation = \"relu\"))\n",
    "layers.append(ks.layers.Dense(1,activation = \"sigmoid\"))\n",
    "model = ks.Sequential(layers)\n",
    "model.compile(optimizer = ks.optimizers.SGD(0.01), loss = ks.losses.BinaryCrossentropy(), metrics=['accuracy'])"
   ]
  },
  {
   "cell_type": "code",
   "execution_count": 121,
   "id": "46b758ae",
   "metadata": {},
   "outputs": [
    {
     "name": "stdout",
     "output_type": "stream",
     "text": [
      "Epoch 1/10\n",
      "18/18 [==============================] - 0s 2ms/step - loss: 0.6888 - accuracy: 0.6597\n",
      "Epoch 2/10\n",
      "18/18 [==============================] - 0s 2ms/step - loss: 0.6816 - accuracy: 0.6562\n",
      "Epoch 3/10\n",
      "18/18 [==============================] - 0s 5ms/step - loss: 0.6757 - accuracy: 0.6562\n",
      "Epoch 4/10\n",
      "18/18 [==============================] - 0s 3ms/step - loss: 0.6711 - accuracy: 0.6562\n",
      "Epoch 5/10\n",
      "18/18 [==============================] - 0s 6ms/step - loss: 0.6672 - accuracy: 0.6562\n",
      "Epoch 6/10\n",
      "18/18 [==============================] - 0s 2ms/step - loss: 0.6639 - accuracy: 0.6562\n",
      "Epoch 7/10\n",
      "18/18 [==============================] - 0s 2ms/step - loss: 0.6610 - accuracy: 0.6562\n",
      "Epoch 8/10\n",
      "18/18 [==============================] - 0s 2ms/step - loss: 0.6586 - accuracy: 0.6562\n",
      "Epoch 9/10\n",
      "18/18 [==============================] - 0s 2ms/step - loss: 0.6565 - accuracy: 0.6562\n",
      "Epoch 10/10\n",
      "18/18 [==============================] - 0s 3ms/step - loss: 0.6546 - accuracy: 0.6562\n"
     ]
    },
    {
     "data": {
      "text/plain": [
       "<keras.callbacks.History at 0x7f762e1a55d0>"
      ]
     },
     "execution_count": 121,
     "metadata": {},
     "output_type": "execute_result"
    }
   ],
   "source": [
    "model.fit(trainx,trainy,epochs = 10,batch_size = 32)"
   ]
  },
  {
   "cell_type": "code",
   "execution_count": 122,
   "id": "f7f0058f",
   "metadata": {},
   "outputs": [
    {
     "name": "stdout",
     "output_type": "stream",
     "text": [
      "6/6 [==============================] - 0s 2ms/step\n"
     ]
    },
    {
     "data": {
      "text/plain": [
       "0.9537958465780786"
      ]
     },
     "execution_count": 122,
     "metadata": {},
     "output_type": "execute_result"
    }
   ],
   "source": [
    "def b(i):\n",
    "    if i > .5:\n",
    "        return 1\n",
    "    else:\n",
    "        return 0\n",
    "def logb2(x):\n",
    "    return math.log(x)/math.log(2)\n",
    "\n",
    "ypred = model.predict(testx)\n",
    "\n",
    "x = 0\n",
    "for i in range(0,len(ypred)):\n",
    "    x = x + (testy[i][0] * logb2(ypred[i]) + (1-testy[i][0]) * logb2(1-ypred[i]))\n",
    "    \n",
    "    \n",
    "\n",
    "-x/len(ypred)\n"
   ]
  },
  {
   "cell_type": "code",
   "execution_count": 123,
   "id": "34a5042a",
   "metadata": {},
   "outputs": [],
   "source": [
    "layers = []\n",
    "layers.append(ks.layers.Dense(40,input_shape = (8,),activation = \"sigmoid\"))\n",
    "layers.append(ks.layers.Dense(1,activation = \"sigmoid\"))\n",
    "model = ks.Sequential(layers)\n",
    "model.compile(optimizer = ks.optimizers.SGD(0.01), loss = ks.losses.BinaryCrossentropy(), metrics=['accuracy'])"
   ]
  },
  {
   "cell_type": "code",
   "execution_count": 124,
   "id": "424b4cce",
   "metadata": {},
   "outputs": [
    {
     "name": "stdout",
     "output_type": "stream",
     "text": [
      "Epoch 1/10\n",
      "18/18 [==============================] - 0s 2ms/step - loss: 0.7374 - accuracy: 0.3438\n",
      "Epoch 2/10\n",
      "18/18 [==============================] - 0s 2ms/step - loss: 0.6788 - accuracy: 0.6285\n",
      "Epoch 3/10\n",
      "18/18 [==============================] - 0s 2ms/step - loss: 0.6566 - accuracy: 0.6562\n",
      "Epoch 4/10\n",
      "18/18 [==============================] - 0s 2ms/step - loss: 0.6487 - accuracy: 0.6562\n",
      "Epoch 5/10\n",
      "18/18 [==============================] - 0s 2ms/step - loss: 0.6460 - accuracy: 0.6562\n",
      "Epoch 6/10\n",
      "18/18 [==============================] - 0s 2ms/step - loss: 0.6448 - accuracy: 0.6562\n",
      "Epoch 7/10\n",
      "18/18 [==============================] - 0s 2ms/step - loss: 0.6444 - accuracy: 0.6562\n",
      "Epoch 8/10\n",
      "18/18 [==============================] - 0s 5ms/step - loss: 0.6442 - accuracy: 0.6562\n",
      "Epoch 9/10\n",
      "18/18 [==============================] - 0s 5ms/step - loss: 0.6441 - accuracy: 0.6562\n",
      "Epoch 10/10\n",
      "18/18 [==============================] - 0s 3ms/step - loss: 0.6442 - accuracy: 0.6562\n"
     ]
    },
    {
     "data": {
      "text/plain": [
       "<keras.callbacks.History at 0x7f762e0074c0>"
      ]
     },
     "execution_count": 124,
     "metadata": {},
     "output_type": "execute_result"
    }
   ],
   "source": [
    "model.fit(trainx,trainy,epochs = 10,batch_size = 32)"
   ]
  },
  {
   "cell_type": "code",
   "execution_count": 125,
   "id": "ac79754c",
   "metadata": {},
   "outputs": [
    {
     "name": "stdout",
     "output_type": "stream",
     "text": [
      "6/6 [==============================] - 0s 1ms/step\n"
     ]
    },
    {
     "data": {
      "text/plain": [
       "0.9475542976271977"
      ]
     },
     "execution_count": 125,
     "metadata": {},
     "output_type": "execute_result"
    }
   ],
   "source": [
    "def b(i):\n",
    "    if i > .5:\n",
    "        return 1\n",
    "    else:\n",
    "        return 0\n",
    "def logb2(x):\n",
    "    return math.log(x)/math.log(2)\n",
    "\n",
    "ypred = model.predict(testx)\n",
    "\n",
    "x = 0\n",
    "for i in range(0,len(ypred)):\n",
    "    x = x + (testy[i][0] * logb2(ypred[i]) + (1-testy[i][0]) * logb2(1-ypred[i]))\n",
    "    \n",
    "    \n",
    "\n",
    "-x/len(ypred)"
   ]
  },
  {
   "cell_type": "code",
   "execution_count": 126,
   "id": "f5aa2288",
   "metadata": {},
   "outputs": [],
   "source": [
    "layers = []\n",
    "layers.append(ks.layers.Dense(40,input_shape = (8,),activation = \"relu\"))\n",
    "layers.append(ks.layers.Dense(1,activation = \"sigmoid\"))\n",
    "model = ks.Sequential(layers)\n",
    "model.compile(optimizer = ks.optimizers.Adam(0.1), loss = ks.losses.BinaryCrossentropy(), metrics=['accuracy'])"
   ]
  },
  {
   "cell_type": "code",
   "execution_count": 127,
   "id": "a9ad2270",
   "metadata": {},
   "outputs": [
    {
     "name": "stdout",
     "output_type": "stream",
     "text": [
      "Epoch 1/10\n",
      "18/18 [==============================] - 1s 2ms/step - loss: 0.6691 - accuracy: 0.6337\n",
      "Epoch 2/10\n",
      "18/18 [==============================] - 0s 2ms/step - loss: 0.6441 - accuracy: 0.6562\n",
      "Epoch 3/10\n",
      "18/18 [==============================] - 0s 2ms/step - loss: 0.6277 - accuracy: 0.6562\n",
      "Epoch 4/10\n",
      "18/18 [==============================] - 0s 2ms/step - loss: 0.6149 - accuracy: 0.6562\n",
      "Epoch 5/10\n",
      "18/18 [==============================] - 0s 2ms/step - loss: 0.6143 - accuracy: 0.6753\n",
      "Epoch 6/10\n",
      "18/18 [==============================] - 0s 2ms/step - loss: 0.5741 - accuracy: 0.7118\n",
      "Epoch 7/10\n",
      "18/18 [==============================] - 0s 2ms/step - loss: 0.5801 - accuracy: 0.7014\n",
      "Epoch 8/10\n",
      "18/18 [==============================] - 0s 2ms/step - loss: 0.5765 - accuracy: 0.7118\n",
      "Epoch 9/10\n",
      "18/18 [==============================] - 0s 2ms/step - loss: 0.5836 - accuracy: 0.6979\n",
      "Epoch 10/10\n",
      "18/18 [==============================] - 0s 6ms/step - loss: 0.5506 - accuracy: 0.7153\n"
     ]
    },
    {
     "data": {
      "text/plain": [
       "<keras.callbacks.History at 0x7f762e0d7400>"
      ]
     },
     "execution_count": 127,
     "metadata": {},
     "output_type": "execute_result"
    }
   ],
   "source": [
    "model.fit(trainx,trainy,epochs = 10,batch_size = 32)"
   ]
  },
  {
   "cell_type": "code",
   "execution_count": 128,
   "id": "2041d6fd",
   "metadata": {},
   "outputs": [
    {
     "name": "stdout",
     "output_type": "stream",
     "text": [
      "6/6 [==============================] - 0s 2ms/step\n"
     ]
    },
    {
     "data": {
      "text/plain": [
       "0.7742466876622017"
      ]
     },
     "execution_count": 128,
     "metadata": {},
     "output_type": "execute_result"
    }
   ],
   "source": [
    "def b(i):\n",
    "    if i > .5:\n",
    "        return 1\n",
    "    else:\n",
    "        return 0\n",
    "def logb2(x):\n",
    "    return math.log(x)/math.log(2)\n",
    "\n",
    "ypred = model.predict(testx)\n",
    "\n",
    "x = 0\n",
    "for i in range(0,len(ypred)):\n",
    "    x = x + (testy[i][0] * logb2(ypred[i]) + (1-testy[i][0]) * logb2(1-ypred[i]))\n",
    "    \n",
    "    \n",
    "\n",
    "-x/len(ypred)"
   ]
  },
  {
   "cell_type": "code",
   "execution_count": 129,
   "id": "65fea606",
   "metadata": {},
   "outputs": [],
   "source": [
    "layers = []\n",
    "layers.append(ks.layers.Dense(40,input_shape = (8,),activation = \"sigmoid\"))\n",
    "layers.append(ks.layers.Dense(1,activation = \"sigmoid\"))\n",
    "model = ks.Sequential(layers)\n",
    "model.compile(optimizer = ks.optimizers.Adam(0.5), loss = ks.losses.BinaryCrossentropy(), metrics=['accuracy'])"
   ]
  },
  {
   "cell_type": "code",
   "execution_count": 130,
   "id": "f7f38469",
   "metadata": {},
   "outputs": [
    {
     "name": "stdout",
     "output_type": "stream",
     "text": [
      "Epoch 1/10\n",
      "18/18 [==============================] - 1s 2ms/step - loss: 1.0383 - accuracy: 0.5729\n",
      "Epoch 2/10\n",
      "18/18 [==============================] - 0s 2ms/step - loss: 0.6450 - accuracy: 0.6562\n",
      "Epoch 3/10\n",
      "18/18 [==============================] - 0s 2ms/step - loss: 0.6529 - accuracy: 0.6562\n",
      "Epoch 4/10\n",
      "18/18 [==============================] - 0s 5ms/step - loss: 0.6510 - accuracy: 0.6562\n",
      "Epoch 5/10\n",
      "18/18 [==============================] - 0s 6ms/step - loss: 0.6462 - accuracy: 0.6562\n",
      "Epoch 6/10\n",
      "18/18 [==============================] - 0s 2ms/step - loss: 0.6377 - accuracy: 0.6562\n",
      "Epoch 7/10\n",
      "18/18 [==============================] - 0s 2ms/step - loss: 0.6429 - accuracy: 0.6615\n",
      "Epoch 8/10\n",
      "18/18 [==============================] - 0s 2ms/step - loss: 0.6142 - accuracy: 0.6719\n",
      "Epoch 9/10\n",
      "18/18 [==============================] - 0s 2ms/step - loss: 0.5737 - accuracy: 0.6875\n",
      "Epoch 10/10\n",
      "18/18 [==============================] - 0s 2ms/step - loss: 0.5549 - accuracy: 0.7031\n"
     ]
    },
    {
     "data": {
      "text/plain": [
       "<keras.callbacks.History at 0x7f762d635480>"
      ]
     },
     "execution_count": 130,
     "metadata": {},
     "output_type": "execute_result"
    }
   ],
   "source": [
    "model.fit(trainx,trainy,epochs = 10,batch_size = 32)"
   ]
  },
  {
   "cell_type": "code",
   "execution_count": 131,
   "id": "8a7e569f",
   "metadata": {},
   "outputs": [
    {
     "name": "stdout",
     "output_type": "stream",
     "text": [
      "6/6 [==============================] - 0s 1ms/step\n"
     ]
    },
    {
     "data": {
      "text/plain": [
       "0.798205760415804"
      ]
     },
     "execution_count": 131,
     "metadata": {},
     "output_type": "execute_result"
    }
   ],
   "source": [
    "def b(i):\n",
    "    if i > .5:\n",
    "        return 1\n",
    "    else:\n",
    "        return 0\n",
    "def logb2(x):\n",
    "    return math.log(x)/math.log(2)\n",
    "\n",
    "ypred = model.predict(testx)\n",
    "\n",
    "x = 0\n",
    "for i in range(0,len(ypred)):\n",
    "    x = x + (testy[i][0] * logb2(ypred[i]) + (1-testy[i][0]) * logb2(1-ypred[i]))\n",
    "    \n",
    "    \n",
    "\n",
    "-x/len(ypred)"
   ]
  },
  {
   "cell_type": "code",
   "execution_count": 132,
   "id": "9fde1d7a",
   "metadata": {},
   "outputs": [],
   "source": [
    "layers = []\n",
    "layers.append(ks.layers.Dense(40,input_shape = (8,),activation = \"relu\"))\n",
    "layers.append(ks.layers.Dense(1,activation = \"sigmoid\"))\n",
    "model = ks.Sequential(layers)\n",
    "model.compile(optimizer = ks.optimizers.SGD(0.01), loss = ks.losses.BinaryCrossentropy(), metrics=['accuracy'])"
   ]
  },
  {
   "cell_type": "code",
   "execution_count": 133,
   "id": "589dc9b9",
   "metadata": {},
   "outputs": [
    {
     "name": "stdout",
     "output_type": "stream",
     "text": [
      "Epoch 1/15\n",
      "18/18 [==============================] - 0s 2ms/step - loss: 0.6901 - accuracy: 0.6319\n",
      "Epoch 2/15\n",
      "18/18 [==============================] - 0s 3ms/step - loss: 0.6839 - accuracy: 0.6562\n",
      "Epoch 3/15\n",
      "18/18 [==============================] - 0s 2ms/step - loss: 0.6787 - accuracy: 0.6562\n",
      "Epoch 4/15\n",
      "18/18 [==============================] - 0s 2ms/step - loss: 0.6742 - accuracy: 0.6562\n",
      "Epoch 5/15\n",
      "18/18 [==============================] - 0s 2ms/step - loss: 0.6701 - accuracy: 0.6562\n",
      "Epoch 6/15\n",
      "18/18 [==============================] - 0s 2ms/step - loss: 0.6664 - accuracy: 0.6562\n",
      "Epoch 7/15\n",
      "18/18 [==============================] - 0s 2ms/step - loss: 0.6631 - accuracy: 0.6562\n",
      "Epoch 8/15\n",
      "18/18 [==============================] - 0s 2ms/step - loss: 0.6603 - accuracy: 0.6562\n",
      "Epoch 9/15\n",
      "18/18 [==============================] - 0s 2ms/step - loss: 0.6580 - accuracy: 0.6562\n",
      "Epoch 10/15\n",
      "18/18 [==============================] - 0s 2ms/step - loss: 0.6560 - accuracy: 0.6562\n",
      "Epoch 11/15\n",
      "18/18 [==============================] - 0s 4ms/step - loss: 0.6543 - accuracy: 0.6562\n",
      "Epoch 12/15\n",
      "18/18 [==============================] - 0s 5ms/step - loss: 0.6528 - accuracy: 0.6562\n",
      "Epoch 13/15\n",
      "18/18 [==============================] - 0s 2ms/step - loss: 0.6515 - accuracy: 0.6562\n",
      "Epoch 14/15\n",
      "18/18 [==============================] - 0s 2ms/step - loss: 0.6504 - accuracy: 0.6562\n",
      "Epoch 15/15\n",
      "18/18 [==============================] - 0s 2ms/step - loss: 0.6495 - accuracy: 0.6562\n"
     ]
    },
    {
     "data": {
      "text/plain": [
       "<keras.callbacks.History at 0x7f762c553ee0>"
      ]
     },
     "execution_count": 133,
     "metadata": {},
     "output_type": "execute_result"
    }
   ],
   "source": [
    "model.fit(trainx,trainy,epochs = 15,batch_size = 32)"
   ]
  },
  {
   "cell_type": "code",
   "execution_count": 134,
   "id": "c9987da7",
   "metadata": {},
   "outputs": [
    {
     "name": "stdout",
     "output_type": "stream",
     "text": [
      "6/6 [==============================] - 0s 3ms/step\n"
     ]
    },
    {
     "data": {
      "text/plain": [
       "0.9489267261670369"
      ]
     },
     "execution_count": 134,
     "metadata": {},
     "output_type": "execute_result"
    }
   ],
   "source": [
    "def b(i):\n",
    "    if i > .5:\n",
    "        return 1\n",
    "    else:\n",
    "        return 0\n",
    "def logb2(x):\n",
    "    return math.log(x)/math.log(2)\n",
    "\n",
    "ypred = model.predict(testx)\n",
    "\n",
    "x = 0\n",
    "for i in range(0,len(ypred)):\n",
    "    x = x + (testy[i][0] * logb2(ypred[i]) + (1-testy[i][0]) * logb2(1-ypred[i]))\n",
    "    \n",
    "    \n",
    "\n",
    "-x/len(ypred)"
   ]
  },
  {
   "cell_type": "code",
   "execution_count": 135,
   "id": "ba8da9e2",
   "metadata": {},
   "outputs": [],
   "source": [
    "layers = []\n",
    "layers.append(ks.layers.Dense(40,input_shape = (8,),activation = \"sigmoid\"))\n",
    "layers.append(ks.layers.Dense(1,activation = \"sigmoid\"))\n",
    "model = ks.Sequential(layers)\n",
    "model.compile(optimizer = ks.optimizers.SGD(0.01), loss = ks.losses.BinaryCrossentropy(), metrics=['accuracy'])"
   ]
  },
  {
   "cell_type": "code",
   "execution_count": 136,
   "id": "f5fbe00b",
   "metadata": {},
   "outputs": [
    {
     "name": "stdout",
     "output_type": "stream",
     "text": [
      "Epoch 1/15\n",
      "18/18 [==============================] - 0s 2ms/step - loss: 0.8412 - accuracy: 0.3438\n",
      "Epoch 2/15\n",
      "18/18 [==============================] - 0s 2ms/step - loss: 0.7173 - accuracy: 0.3924\n",
      "Epoch 3/15\n",
      "18/18 [==============================] - 0s 2ms/step - loss: 0.6709 - accuracy: 0.6562\n",
      "Epoch 4/15\n",
      "18/18 [==============================] - 0s 2ms/step - loss: 0.6540 - accuracy: 0.6562\n",
      "Epoch 5/15\n",
      "18/18 [==============================] - 0s 2ms/step - loss: 0.6476 - accuracy: 0.6562\n",
      "Epoch 6/15\n",
      "18/18 [==============================] - 0s 2ms/step - loss: 0.6454 - accuracy: 0.6562\n",
      "Epoch 7/15\n",
      "18/18 [==============================] - 0s 3ms/step - loss: 0.6445 - accuracy: 0.6562\n",
      "Epoch 8/15\n",
      "18/18 [==============================] - 0s 2ms/step - loss: 0.6443 - accuracy: 0.6562\n",
      "Epoch 9/15\n",
      "18/18 [==============================] - 0s 2ms/step - loss: 0.6438 - accuracy: 0.6562\n",
      "Epoch 10/15\n",
      "18/18 [==============================] - 0s 2ms/step - loss: 0.6438 - accuracy: 0.6562\n",
      "Epoch 11/15\n",
      "18/18 [==============================] - 0s 3ms/step - loss: 0.6440 - accuracy: 0.6562\n",
      "Epoch 12/15\n",
      "18/18 [==============================] - 0s 3ms/step - loss: 0.6437 - accuracy: 0.6562\n",
      "Epoch 13/15\n",
      "18/18 [==============================] - 0s 2ms/step - loss: 0.6438 - accuracy: 0.6562\n",
      "Epoch 14/15\n",
      "18/18 [==============================] - 0s 2ms/step - loss: 0.6441 - accuracy: 0.6562\n",
      "Epoch 15/15\n",
      "18/18 [==============================] - 0s 3ms/step - loss: 0.6439 - accuracy: 0.6562\n"
     ]
    },
    {
     "data": {
      "text/plain": [
       "<keras.callbacks.History at 0x7f762c42feb0>"
      ]
     },
     "execution_count": 136,
     "metadata": {},
     "output_type": "execute_result"
    }
   ],
   "source": [
    "model.fit(trainx,trainy,epochs = 15,batch_size = 32)"
   ]
  },
  {
   "cell_type": "code",
   "execution_count": 137,
   "id": "ed47d7f2",
   "metadata": {},
   "outputs": [
    {
     "name": "stdout",
     "output_type": "stream",
     "text": [
      "6/6 [==============================] - 0s 2ms/step\n"
     ]
    },
    {
     "data": {
      "text/plain": [
       "0.9477703292161849"
      ]
     },
     "execution_count": 137,
     "metadata": {},
     "output_type": "execute_result"
    }
   ],
   "source": [
    "def b(i):\n",
    "    if i > .5:\n",
    "        return 1\n",
    "    else:\n",
    "        return 0\n",
    "def logb2(x):\n",
    "    return math.log(x)/math.log(2)\n",
    "\n",
    "ypred = model.predict(testx)\n",
    "\n",
    "x = 0\n",
    "for i in range(0,len(ypred)):\n",
    "    x = x + (testy[i][0] * logb2(ypred[i]) + (1-testy[i][0]) * logb2(1-ypred[i]))\n",
    "    \n",
    "    \n",
    "\n",
    "-x/len(ypred)"
   ]
  },
  {
   "cell_type": "code",
   "execution_count": 138,
   "id": "6a435349",
   "metadata": {},
   "outputs": [],
   "source": [
    "layers = []\n",
    "layers.append(ks.layers.Dense(40,input_shape = (8,),activation = \"relu\"))\n",
    "layers.append(ks.layers.Dense(1,activation = \"sigmoid\"))\n",
    "model = ks.Sequential(layers)\n",
    "model.compile(optimizer = ks.optimizers.Adam(0.1), loss = ks.losses.BinaryCrossentropy(), metrics=['accuracy'])"
   ]
  },
  {
   "cell_type": "code",
   "execution_count": 139,
   "id": "6b73f6c1",
   "metadata": {},
   "outputs": [
    {
     "name": "stdout",
     "output_type": "stream",
     "text": [
      "Epoch 1/15\n",
      "18/18 [==============================] - 0s 2ms/step - loss: 0.6735 - accuracy: 0.6198\n",
      "Epoch 2/15\n",
      "18/18 [==============================] - 0s 2ms/step - loss: 0.6403 - accuracy: 0.6562\n",
      "Epoch 3/15\n",
      "18/18 [==============================] - 0s 2ms/step - loss: 0.6286 - accuracy: 0.6562\n",
      "Epoch 4/15\n",
      "18/18 [==============================] - 0s 2ms/step - loss: 0.6296 - accuracy: 0.6562\n",
      "Epoch 5/15\n",
      "18/18 [==============================] - 0s 2ms/step - loss: 0.6019 - accuracy: 0.6788\n",
      "Epoch 6/15\n",
      "18/18 [==============================] - 0s 2ms/step - loss: 0.5854 - accuracy: 0.6875\n",
      "Epoch 7/15\n",
      "18/18 [==============================] - 0s 2ms/step - loss: 0.5657 - accuracy: 0.7222\n",
      "Epoch 8/15\n",
      "18/18 [==============================] - 0s 2ms/step - loss: 0.5397 - accuracy: 0.7135\n",
      "Epoch 9/15\n",
      "18/18 [==============================] - 0s 2ms/step - loss: 0.5336 - accuracy: 0.7309\n",
      "Epoch 10/15\n",
      "18/18 [==============================] - 0s 5ms/step - loss: 0.5683 - accuracy: 0.7031\n",
      "Epoch 11/15\n",
      "18/18 [==============================] - 0s 3ms/step - loss: 0.5302 - accuracy: 0.7326\n",
      "Epoch 12/15\n",
      "18/18 [==============================] - 0s 6ms/step - loss: 0.5149 - accuracy: 0.7396\n",
      "Epoch 13/15\n",
      "18/18 [==============================] - 0s 2ms/step - loss: 0.5320 - accuracy: 0.7274\n",
      "Epoch 14/15\n",
      "18/18 [==============================] - 0s 2ms/step - loss: 0.5276 - accuracy: 0.7257\n",
      "Epoch 15/15\n",
      "18/18 [==============================] - 0s 3ms/step - loss: 0.5214 - accuracy: 0.7413\n"
     ]
    },
    {
     "data": {
      "text/plain": [
       "<keras.callbacks.History at 0x7f762d51beb0>"
      ]
     },
     "execution_count": 139,
     "metadata": {},
     "output_type": "execute_result"
    }
   ],
   "source": [
    "model.fit(trainx,trainy,epochs = 15,batch_size = 32)"
   ]
  },
  {
   "cell_type": "code",
   "execution_count": 140,
   "id": "f88b73f3",
   "metadata": {},
   "outputs": [
    {
     "name": "stdout",
     "output_type": "stream",
     "text": [
      "6/6 [==============================] - 0s 2ms/step\n"
     ]
    },
    {
     "data": {
      "text/plain": [
       "0.7859469740686721"
      ]
     },
     "execution_count": 140,
     "metadata": {},
     "output_type": "execute_result"
    }
   ],
   "source": [
    "def b(i):\n",
    "    if i > .5:\n",
    "        return 1\n",
    "    else:\n",
    "        return 0\n",
    "def logb2(x):\n",
    "    return math.log(x)/math.log(2)\n",
    "\n",
    "ypred = model.predict(testx)\n",
    "\n",
    "x = 0\n",
    "for i in range(0,len(ypred)):\n",
    "    x = x + (testy[i][0] * logb2(ypred[i]) + (1-testy[i][0]) * logb2(1-ypred[i]))\n",
    "    \n",
    "    \n",
    "\n",
    "-x/len(ypred)"
   ]
  },
  {
   "cell_type": "code",
   "execution_count": 141,
   "id": "ed9122f5",
   "metadata": {},
   "outputs": [],
   "source": [
    "layers = []\n",
    "layers.append(ks.layers.Dense(40,input_shape = (8,),activation = \"sigmoid\"))\n",
    "layers.append(ks.layers.Dense(1,activation = \"sigmoid\"))\n",
    "model = ks.Sequential(layers)\n",
    "model.compile(optimizer = ks.optimizers.Adam(0.5), loss = ks.losses.BinaryCrossentropy(), metrics=['accuracy'])"
   ]
  },
  {
   "cell_type": "code",
   "execution_count": 142,
   "id": "b4d83581",
   "metadata": {},
   "outputs": [
    {
     "name": "stdout",
     "output_type": "stream",
     "text": [
      "Epoch 1/15\n",
      "18/18 [==============================] - 0s 2ms/step - loss: 1.0171 - accuracy: 0.5799\n",
      "Epoch 2/15\n",
      "18/18 [==============================] - 0s 2ms/step - loss: 0.6560 - accuracy: 0.6493\n",
      "Epoch 3/15\n",
      "18/18 [==============================] - 0s 2ms/step - loss: 0.6501 - accuracy: 0.6562\n",
      "Epoch 4/15\n",
      "18/18 [==============================] - 0s 2ms/step - loss: 0.6415 - accuracy: 0.6562\n",
      "Epoch 5/15\n",
      "18/18 [==============================] - 0s 4ms/step - loss: 0.6354 - accuracy: 0.6562\n",
      "Epoch 6/15\n",
      "18/18 [==============================] - 0s 2ms/step - loss: 0.6244 - accuracy: 0.6562\n",
      "Epoch 7/15\n",
      "18/18 [==============================] - 0s 2ms/step - loss: 0.5991 - accuracy: 0.6771\n",
      "Epoch 8/15\n",
      "18/18 [==============================] - 0s 2ms/step - loss: 0.6005 - accuracy: 0.6858\n",
      "Epoch 9/15\n",
      "18/18 [==============================] - 0s 3ms/step - loss: 0.6105 - accuracy: 0.6823\n",
      "Epoch 10/15\n",
      "18/18 [==============================] - 0s 2ms/step - loss: 0.6053 - accuracy: 0.6528\n",
      "Epoch 11/15\n",
      "18/18 [==============================] - 0s 2ms/step - loss: 0.5763 - accuracy: 0.6858\n",
      "Epoch 12/15\n",
      "18/18 [==============================] - 0s 3ms/step - loss: 0.5564 - accuracy: 0.7135\n",
      "Epoch 13/15\n",
      "18/18 [==============================] - 0s 2ms/step - loss: 0.5702 - accuracy: 0.7066\n",
      "Epoch 14/15\n",
      "18/18 [==============================] - 0s 3ms/step - loss: 0.5443 - accuracy: 0.7066\n",
      "Epoch 15/15\n",
      "18/18 [==============================] - 0s 4ms/step - loss: 0.5197 - accuracy: 0.7413\n"
     ]
    },
    {
     "data": {
      "text/plain": [
       "<keras.callbacks.History at 0x7f762cc5e6e0>"
      ]
     },
     "execution_count": 142,
     "metadata": {},
     "output_type": "execute_result"
    }
   ],
   "source": [
    "model.fit(trainx,trainy,epochs = 15,batch_size = 32)"
   ]
  },
  {
   "cell_type": "code",
   "execution_count": 143,
   "id": "c5350b11",
   "metadata": {},
   "outputs": [
    {
     "name": "stdout",
     "output_type": "stream",
     "text": [
      "6/6 [==============================] - 0s 2ms/step\n"
     ]
    },
    {
     "data": {
      "text/plain": [
       "0.7073021521956907"
      ]
     },
     "execution_count": 143,
     "metadata": {},
     "output_type": "execute_result"
    }
   ],
   "source": [
    "def b(i):\n",
    "    if i > .5:\n",
    "        return 1\n",
    "    else:\n",
    "        return 0\n",
    "def logb2(x):\n",
    "    return math.log(x)/math.log(2)\n",
    "\n",
    "ypred = model.predict(testx)\n",
    "\n",
    "x = 0\n",
    "for i in range(0,len(ypred)):\n",
    "    x = x + (testy[i][0] * logb2(ypred[i]) + (1-testy[i][0]) * logb2(1-ypred[i]))\n",
    "    \n",
    "    \n",
    "\n",
    "-x/len(ypred)"
   ]
  }
 ],
 "metadata": {
  "kernelspec": {
   "display_name": "Python 3 (ipykernel)",
   "language": "python",
   "name": "python3"
  },
  "language_info": {
   "codemirror_mode": {
    "name": "ipython",
    "version": 3
   },
   "file_extension": ".py",
   "mimetype": "text/x-python",
   "name": "python",
   "nbconvert_exporter": "python",
   "pygments_lexer": "ipython3",
   "version": "3.10.6"
  }
 },
 "nbformat": 4,
 "nbformat_minor": 5
}
